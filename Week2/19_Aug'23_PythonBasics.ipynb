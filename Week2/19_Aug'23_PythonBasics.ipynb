{
  "nbformat": 4,
  "nbformat_minor": 0,
  "metadata": {
    "colab": {
      "provenance": []
    },
    "kernelspec": {
      "name": "python3",
      "display_name": "Python 3"
    },
    "language_info": {
      "name": "python"
    }
  },
  "cells": [
    {
      "cell_type": "markdown",
      "source": [
        "# <font color=\"red\"> Python Basics Variable </font>\n"
      ],
      "metadata": {
        "id": "ahFzTV9bA_kF"
      }
    },
    {
      "cell_type": "markdown",
      "source": [
        "### Ans of Question 1"
      ],
      "metadata": {
        "id": "qLlvHNvY8uLV"
      }
    },
    {
      "cell_type": "code",
      "source": [
        "# swapping without any temo variable\n",
        "x = 2\n",
        "y = 3\n",
        "x = x+y\n",
        "y = x-y\n",
        "x = x-y\n",
        "print(x)\n",
        "print(y)"
      ],
      "metadata": {
        "colab": {
          "base_uri": "https://localhost:8080/"
        },
        "id": "AVNCGER29mZH",
        "outputId": "3218f30c-5ac8-4b4a-fb5f-35a27f3bd84e"
      },
      "execution_count": 1,
      "outputs": [
        {
          "output_type": "stream",
          "name": "stdout",
          "text": [
            "3\n",
            "2\n"
          ]
        }
      ]
    },
    {
      "cell_type": "markdown",
      "source": [
        "### Ans of Question 2"
      ],
      "metadata": {
        "id": "DxkfNSds9svM"
      }
    },
    {
      "cell_type": "code",
      "source": [
        "length = float(input())\n",
        "width = float(input())\n",
        "\n",
        "area = length*width\n",
        "\n",
        "print(\"The area of a rectangle is {}\".format(area))"
      ],
      "metadata": {
        "colab": {
          "base_uri": "https://localhost:8080/"
        },
        "id": "O9R934sN9wp6",
        "outputId": "2ec54d2d-875e-48bd-c39d-f2c14ef091af"
      },
      "execution_count": 7,
      "outputs": [
        {
          "output_type": "stream",
          "name": "stdout",
          "text": [
            "3\n",
            "3\n",
            "The area of a rectangle is 9.0\n"
          ]
        }
      ]
    },
    {
      "cell_type": "markdown",
      "source": [
        "### Ans of Question 3"
      ],
      "metadata": {
        "id": "mcaI4QOT-4v2"
      }
    },
    {
      "cell_type": "code",
      "source": [
        "celcius = float(input())\n",
        "\n",
        "fahrenheit = (celcius * 9/5)+32\n",
        "\n",
        "print(\"The fahrenheit temperature is {}\".format(fahrenheit))"
      ],
      "metadata": {
        "colab": {
          "base_uri": "https://localhost:8080/"
        },
        "id": "VYUf7Rb0-7iD",
        "outputId": "558ea7d4-87fc-4681-928e-0b593a41902e"
      },
      "execution_count": 9,
      "outputs": [
        {
          "output_type": "stream",
          "name": "stdout",
          "text": [
            "0\n",
            "The fahrenheit temperature is 32.0\n"
          ]
        }
      ]
    },
    {
      "cell_type": "markdown",
      "source": [
        "# <font color=\"red\"> String Based Question </font>"
      ],
      "metadata": {
        "id": "YfIHSx6-BCj7"
      }
    },
    {
      "cell_type": "markdown",
      "source": [
        "### Ans of Q1"
      ],
      "metadata": {
        "id": "wJBg98FGB0-A"
      }
    },
    {
      "cell_type": "code",
      "source": [
        "string = input()\n",
        "print(len(string))"
      ],
      "metadata": {
        "colab": {
          "base_uri": "https://localhost:8080/"
        },
        "id": "xUyXegc1B3lp",
        "outputId": "935d0c36-fc46-410b-f0e6-bfa4a9c21a9c"
      },
      "execution_count": 10,
      "outputs": [
        {
          "output_type": "stream",
          "name": "stdout",
          "text": [
            "hello\n",
            "5\n"
          ]
        }
      ]
    },
    {
      "cell_type": "markdown",
      "source": [
        "### Ans of Q2"
      ],
      "metadata": {
        "id": "8Tqg_MsVB_73"
      }
    },
    {
      "cell_type": "code",
      "source": [
        "vowels = 'aeiouAEIOU'\n",
        "sentence = input()\n",
        "v_count = 0\n",
        "for c in sentence:\n",
        "  if c in vowels:\n",
        "    v_count = v_count +  1\n",
        "print(\"Total vowels {}\".format(v_count))"
      ],
      "metadata": {
        "colab": {
          "base_uri": "https://localhost:8080/"
        },
        "id": "WUFjRBypB8vx",
        "outputId": "c1f935c3-896e-4c40-b58c-38e5eaf338ee"
      },
      "execution_count": 11,
      "outputs": [
        {
          "output_type": "stream",
          "name": "stdout",
          "text": [
            "This is Aecc\n",
            "Total vowels 4\n"
          ]
        }
      ]
    },
    {
      "cell_type": "markdown",
      "source": [
        "### Ans of Q3"
      ],
      "metadata": {
        "id": "BCAjCdfKEisn"
      }
    },
    {
      "cell_type": "code",
      "source": [
        "string = 'reverse'\n",
        "print(\"Reversed string {}\".format(string[::-1]))"
      ],
      "metadata": {
        "colab": {
          "base_uri": "https://localhost:8080/"
        },
        "id": "emBCOQrNEkaI",
        "outputId": "c98a05b5-5580-4ffd-81f2-6682c0c00315"
      },
      "execution_count": 14,
      "outputs": [
        {
          "output_type": "stream",
          "name": "stdout",
          "text": [
            "Reversed string esrever\n"
          ]
        }
      ]
    },
    {
      "cell_type": "markdown",
      "source": [
        "### Ans of Q4"
      ],
      "metadata": {
        "id": "dye7Av0IEk9B"
      }
    },
    {
      "cell_type": "code",
      "source": [
        "s1 = input()\n",
        "s2 = s1[::-1].capitalize()\n",
        "if s1==s2:\n",
        "  print(\"Pallindrome\")\n",
        "else:\n",
        "  print(\"Not a Pallindrome\")"
      ],
      "metadata": {
        "colab": {
          "base_uri": "https://localhost:8080/"
        },
        "id": "4a0itEHHEmh8",
        "outputId": "02b27143-dc47-4ac0-b4e3-2fa8141c6677"
      },
      "execution_count": 20,
      "outputs": [
        {
          "output_type": "stream",
          "name": "stdout",
          "text": [
            "Mdam\n",
            "Not a Pallindrome\n"
          ]
        }
      ]
    },
    {
      "cell_type": "markdown",
      "source": [
        "### Ans of Q5"
      ],
      "metadata": {
        "id": "Wx37kVMCEm9H"
      }
    },
    {
      "cell_type": "code",
      "source": [
        "string  = input()\n",
        "up_string = string.replace(\" \",\"\")\n",
        "print(\"String without any spaces -> {}\".format(up_string))"
      ],
      "metadata": {
        "colab": {
          "base_uri": "https://localhost:8080/"
        },
        "id": "2Xz2ZGMTEpK5",
        "outputId": "f46e5468-55cb-4e03-cc94-61a66c60cec9"
      },
      "execution_count": 22,
      "outputs": [
        {
          "output_type": "stream",
          "name": "stdout",
          "text": [
            "33\n",
            "String without any spaces ->33\n"
          ]
        }
      ]
    },
    {
      "cell_type": "code",
      "source": [],
      "metadata": {
        "id": "_dKioGioJWrc"
      },
      "execution_count": null,
      "outputs": []
    }
  ]
}